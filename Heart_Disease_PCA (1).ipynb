{
  "nbformat": 4,
  "nbformat_minor": 0,
  "metadata": {
    "colab": {
      "provenance": []
    },
    "kernelspec": {
      "name": "python3",
      "display_name": "Python 3"
    },
    "language_info": {
      "name": "python"
    }
  },
  "cells": [
    {
      "cell_type": "markdown",
      "source": [
        "**Dimension-Reduction-PCA**"
      ],
      "metadata": {
        "id": "d4N1gt4JkmnY"
      }
    },
    {
      "cell_type": "code",
      "execution_count": 1,
      "metadata": {
        "id": "CPT2SrkMkjqn"
      },
      "outputs": [],
      "source": [
        "# Importing the Libraries\n",
        "\n",
        "# Importing libraries\n",
        "\n",
        "import pandas as pd"
      ]
    },
    {
      "cell_type": "code",
      "source": [
        "# Loading the dataset\n",
        "\n",
        "from google.colab import files\n",
        "\n",
        "uploaded = files.upload()"
      ],
      "metadata": {
        "colab": {
          "base_uri": "https://localhost:8080/",
          "height": 74
        },
        "id": "TAgoI6cUk3lJ",
        "outputId": "127f6f13-d15b-43b5-c993-4ec08788631d"
      },
      "execution_count": 3,
      "outputs": [
        {
          "output_type": "display_data",
          "data": {
            "text/plain": [
              "<IPython.core.display.HTML object>"
            ],
            "text/html": [
              "\n",
              "     <input type=\"file\" id=\"files-4e880f0c-3f2e-44d9-9861-a0153f5d8beb\" name=\"files[]\" multiple disabled\n",
              "        style=\"border:none\" />\n",
              "     <output id=\"result-4e880f0c-3f2e-44d9-9861-a0153f5d8beb\">\n",
              "      Upload widget is only available when the cell has been executed in the\n",
              "      current browser session. Please rerun this cell to enable.\n",
              "      </output>\n",
              "      <script>// Copyright 2017 Google LLC\n",
              "//\n",
              "// Licensed under the Apache License, Version 2.0 (the \"License\");\n",
              "// you may not use this file except in compliance with the License.\n",
              "// You may obtain a copy of the License at\n",
              "//\n",
              "//      http://www.apache.org/licenses/LICENSE-2.0\n",
              "//\n",
              "// Unless required by applicable law or agreed to in writing, software\n",
              "// distributed under the License is distributed on an \"AS IS\" BASIS,\n",
              "// WITHOUT WARRANTIES OR CONDITIONS OF ANY KIND, either express or implied.\n",
              "// See the License for the specific language governing permissions and\n",
              "// limitations under the License.\n",
              "\n",
              "/**\n",
              " * @fileoverview Helpers for google.colab Python module.\n",
              " */\n",
              "(function(scope) {\n",
              "function span(text, styleAttributes = {}) {\n",
              "  const element = document.createElement('span');\n",
              "  element.textContent = text;\n",
              "  for (const key of Object.keys(styleAttributes)) {\n",
              "    element.style[key] = styleAttributes[key];\n",
              "  }\n",
              "  return element;\n",
              "}\n",
              "\n",
              "// Max number of bytes which will be uploaded at a time.\n",
              "const MAX_PAYLOAD_SIZE = 100 * 1024;\n",
              "\n",
              "function _uploadFiles(inputId, outputId) {\n",
              "  const steps = uploadFilesStep(inputId, outputId);\n",
              "  const outputElement = document.getElementById(outputId);\n",
              "  // Cache steps on the outputElement to make it available for the next call\n",
              "  // to uploadFilesContinue from Python.\n",
              "  outputElement.steps = steps;\n",
              "\n",
              "  return _uploadFilesContinue(outputId);\n",
              "}\n",
              "\n",
              "// This is roughly an async generator (not supported in the browser yet),\n",
              "// where there are multiple asynchronous steps and the Python side is going\n",
              "// to poll for completion of each step.\n",
              "// This uses a Promise to block the python side on completion of each step,\n",
              "// then passes the result of the previous step as the input to the next step.\n",
              "function _uploadFilesContinue(outputId) {\n",
              "  const outputElement = document.getElementById(outputId);\n",
              "  const steps = outputElement.steps;\n",
              "\n",
              "  const next = steps.next(outputElement.lastPromiseValue);\n",
              "  return Promise.resolve(next.value.promise).then((value) => {\n",
              "    // Cache the last promise value to make it available to the next\n",
              "    // step of the generator.\n",
              "    outputElement.lastPromiseValue = value;\n",
              "    return next.value.response;\n",
              "  });\n",
              "}\n",
              "\n",
              "/**\n",
              " * Generator function which is called between each async step of the upload\n",
              " * process.\n",
              " * @param {string} inputId Element ID of the input file picker element.\n",
              " * @param {string} outputId Element ID of the output display.\n",
              " * @return {!Iterable<!Object>} Iterable of next steps.\n",
              " */\n",
              "function* uploadFilesStep(inputId, outputId) {\n",
              "  const inputElement = document.getElementById(inputId);\n",
              "  inputElement.disabled = false;\n",
              "\n",
              "  const outputElement = document.getElementById(outputId);\n",
              "  outputElement.innerHTML = '';\n",
              "\n",
              "  const pickedPromise = new Promise((resolve) => {\n",
              "    inputElement.addEventListener('change', (e) => {\n",
              "      resolve(e.target.files);\n",
              "    });\n",
              "  });\n",
              "\n",
              "  const cancel = document.createElement('button');\n",
              "  inputElement.parentElement.appendChild(cancel);\n",
              "  cancel.textContent = 'Cancel upload';\n",
              "  const cancelPromise = new Promise((resolve) => {\n",
              "    cancel.onclick = () => {\n",
              "      resolve(null);\n",
              "    };\n",
              "  });\n",
              "\n",
              "  // Wait for the user to pick the files.\n",
              "  const files = yield {\n",
              "    promise: Promise.race([pickedPromise, cancelPromise]),\n",
              "    response: {\n",
              "      action: 'starting',\n",
              "    }\n",
              "  };\n",
              "\n",
              "  cancel.remove();\n",
              "\n",
              "  // Disable the input element since further picks are not allowed.\n",
              "  inputElement.disabled = true;\n",
              "\n",
              "  if (!files) {\n",
              "    return {\n",
              "      response: {\n",
              "        action: 'complete',\n",
              "      }\n",
              "    };\n",
              "  }\n",
              "\n",
              "  for (const file of files) {\n",
              "    const li = document.createElement('li');\n",
              "    li.append(span(file.name, {fontWeight: 'bold'}));\n",
              "    li.append(span(\n",
              "        `(${file.type || 'n/a'}) - ${file.size} bytes, ` +\n",
              "        `last modified: ${\n",
              "            file.lastModifiedDate ? file.lastModifiedDate.toLocaleDateString() :\n",
              "                                    'n/a'} - `));\n",
              "    const percent = span('0% done');\n",
              "    li.appendChild(percent);\n",
              "\n",
              "    outputElement.appendChild(li);\n",
              "\n",
              "    const fileDataPromise = new Promise((resolve) => {\n",
              "      const reader = new FileReader();\n",
              "      reader.onload = (e) => {\n",
              "        resolve(e.target.result);\n",
              "      };\n",
              "      reader.readAsArrayBuffer(file);\n",
              "    });\n",
              "    // Wait for the data to be ready.\n",
              "    let fileData = yield {\n",
              "      promise: fileDataPromise,\n",
              "      response: {\n",
              "        action: 'continue',\n",
              "      }\n",
              "    };\n",
              "\n",
              "    // Use a chunked sending to avoid message size limits. See b/62115660.\n",
              "    let position = 0;\n",
              "    do {\n",
              "      const length = Math.min(fileData.byteLength - position, MAX_PAYLOAD_SIZE);\n",
              "      const chunk = new Uint8Array(fileData, position, length);\n",
              "      position += length;\n",
              "\n",
              "      const base64 = btoa(String.fromCharCode.apply(null, chunk));\n",
              "      yield {\n",
              "        response: {\n",
              "          action: 'append',\n",
              "          file: file.name,\n",
              "          data: base64,\n",
              "        },\n",
              "      };\n",
              "\n",
              "      let percentDone = fileData.byteLength === 0 ?\n",
              "          100 :\n",
              "          Math.round((position / fileData.byteLength) * 100);\n",
              "      percent.textContent = `${percentDone}% done`;\n",
              "\n",
              "    } while (position < fileData.byteLength);\n",
              "  }\n",
              "\n",
              "  // All done.\n",
              "  yield {\n",
              "    response: {\n",
              "      action: 'complete',\n",
              "    }\n",
              "  };\n",
              "}\n",
              "\n",
              "scope.google = scope.google || {};\n",
              "scope.google.colab = scope.google.colab || {};\n",
              "scope.google.colab._files = {\n",
              "  _uploadFiles,\n",
              "  _uploadFilesContinue,\n",
              "};\n",
              "})(self);\n",
              "</script> "
            ]
          },
          "metadata": {}
        },
        {
          "output_type": "stream",
          "name": "stdout",
          "text": [
            "Saving heart disease.csv to heart disease.csv\n"
          ]
        }
      ]
    },
    {
      "cell_type": "code",
      "source": [
        "# Opening the csv file with the help of pandas\n",
        "\n",
        "Hd1 = pd.read_csv(\"heart disease.csv\")"
      ],
      "metadata": {
        "id": "wjhAxo4ilD9L"
      },
      "execution_count": 87,
      "outputs": []
    },
    {
      "cell_type": "code",
      "source": [
        "#first we perform PCA\n",
        "Hd = Hd1.drop([\"age\"], axis = 1)"
      ],
      "metadata": {
        "id": "b_Z4ZFlUlW9Q"
      },
      "execution_count": 88,
      "outputs": []
    },
    {
      "cell_type": "code",
      "source": [
        "from sklearn.decomposition import PCA\n",
        "import matplotlib.pyplot as plt\n",
        "from sklearn.preprocessing import scale \n",
        "\n",
        "# Considering only numerical data \n",
        "#uni.data = uni.iloc[:, 1:]\n"
      ],
      "metadata": {
        "id": "-MNysqjGlZtJ"
      },
      "execution_count": 89,
      "outputs": []
    },
    {
      "cell_type": "code",
      "source": [
        "# Normalizing the numerical data \n",
        "Hd_normal = scale(Hd)\n",
        "Hd_normal"
      ],
      "metadata": {
        "colab": {
          "base_uri": "https://localhost:8080/"
        },
        "id": "wg6wmniUlm80",
        "outputId": "205dcaf2-4561-482e-bd6f-6dbc710aba67"
      },
      "execution_count": 90,
      "outputs": [
        {
          "output_type": "execute_result",
          "data": {
            "text/plain": [
              "array([[ 0.68100522,  1.97312292,  0.76395577, ..., -0.71442887,\n",
              "        -2.14887271,  0.91452919],\n",
              "       [ 0.68100522,  1.00257707, -0.09273778, ..., -0.71442887,\n",
              "        -0.51292188,  0.91452919],\n",
              "       [-1.46841752,  0.03203122, -0.09273778, ..., -0.71442887,\n",
              "        -0.51292188,  0.91452919],\n",
              "       ...,\n",
              "       [ 0.68100522, -0.93851463,  0.70684287, ...,  1.24459328,\n",
              "         1.12302895, -1.09345881],\n",
              "       [ 0.68100522, -0.93851463, -0.09273778, ...,  0.26508221,\n",
              "         1.12302895, -1.09345881],\n",
              "       [-1.46841752,  0.03203122, -0.09273778, ...,  0.26508221,\n",
              "        -0.51292188, -1.09345881]])"
            ]
          },
          "metadata": {},
          "execution_count": 90
        }
      ]
    },
    {
      "cell_type": "code",
      "source": [
        "pca = PCA(n_components = 13)\n",
        "pca_values = pca.fit_transform(Hd_normal)"
      ],
      "metadata": {
        "id": "WirT6oYglqtD"
      },
      "execution_count": 91,
      "outputs": []
    },
    {
      "cell_type": "code",
      "source": [
        "# The amount of variance that each PCA explains is \n",
        "var = pca.explained_variance_ratio_\n",
        "var"
      ],
      "metadata": {
        "colab": {
          "base_uri": "https://localhost:8080/"
        },
        "id": "ieoAl0rvlsnN",
        "outputId": "faf5eca7-e56a-44e6-9a06-a4de088c3428"
      },
      "execution_count": 92,
      "outputs": [
        {
          "output_type": "execute_result",
          "data": {
            "text/plain": [
              "array([0.24222524, 0.10712573, 0.09446941, 0.09246212, 0.07580434,\n",
              "       0.07285902, 0.06477695, 0.05863887, 0.04790754, 0.04580257,\n",
              "       0.04033504, 0.02920133, 0.02839185])"
            ]
          },
          "metadata": {},
          "execution_count": 92
        }
      ]
    },
    {
      "cell_type": "code",
      "source": [
        "pca.components_\n",
        "pca.components_[0]"
      ],
      "metadata": {
        "colab": {
          "base_uri": "https://localhost:8080/"
        },
        "id": "WzKvEeqslv3f",
        "outputId": "d8629983-173a-46c7-f276-689f74e640ba"
      },
      "execution_count": 93,
      "outputs": [
        {
          "output_type": "execute_result",
          "data": {
            "text/plain": [
              "array([ 0.15124946, -0.29726098,  0.12524218,  0.07246936,  0.04012187,\n",
              "       -0.10714912, -0.36126953,  0.36040588,  0.38253599, -0.33787368,\n",
              "        0.2559418 ,  0.24043745, -0.45881865])"
            ]
          },
          "metadata": {},
          "execution_count": 93
        }
      ]
    },
    {
      "cell_type": "code",
      "source": [
        "# Cumulative variance \n",
        "\n",
        "var1 = np.cumsum(np.round(var, decimals = 4) * 100)\n",
        "var1"
      ],
      "metadata": {
        "colab": {
          "base_uri": "https://localhost:8080/"
        },
        "id": "qjscNbxXlxeW",
        "outputId": "24827eb1-c6c9-4b1e-8b2f-315c64dda7f9"
      },
      "execution_count": 94,
      "outputs": [
        {
          "output_type": "execute_result",
          "data": {
            "text/plain": [
              "array([ 24.22,  34.93,  44.38,  53.63,  61.21,  68.5 ,  74.98,  80.84,\n",
              "        85.63,  90.21,  94.24,  97.16, 100.  ])"
            ]
          },
          "metadata": {},
          "execution_count": 94
        }
      ]
    },
    {
      "cell_type": "code",
      "source": [
        "# Variance plot for PCA components obtained \n",
        "plt.plot(var1, color = \"Blue\")"
      ],
      "metadata": {
        "colab": {
          "base_uri": "https://localhost:8080/",
          "height": 282
        },
        "id": "kpY-F2FGl0g0",
        "outputId": "af373843-e8dd-4b6d-c7b9-5f88226c598f"
      },
      "execution_count": 95,
      "outputs": [
        {
          "output_type": "execute_result",
          "data": {
            "text/plain": [
              "[<matplotlib.lines.Line2D at 0x7f35614a9850>]"
            ]
          },
          "metadata": {},
          "execution_count": 95
        },
        {
          "output_type": "display_data",
          "data": {
            "text/plain": [
              "<Figure size 432x288 with 1 Axes>"
            ],
            "image/png": "[encoded data removed]"
          },
          "metadata": {
            "needs_background": "light"
          }
        }
      ]
    },
    {
      "cell_type": "code",
      "source": [
        "# PCA scores\n",
        "pca_values"
      ],
      "metadata": {
        "colab": {
          "base_uri": "https://localhost:8080/"
        },
        "id": "aLCHFBWsl2rk",
        "outputId": "de1fb4a6-cfb6-4e32-dd22-61326b8f9255"
      },
      "execution_count": 96,
      "outputs": [
        {
          "output_type": "execute_result",
          "data": {
            "text/plain": [
              "array([[-0.39389159,  2.94999308,  0.10954325, ...,  0.28969449,\n",
              "        -0.0944904 ,  0.35621619],\n",
              "       [-0.30098049,  0.58395934, -0.91390823, ..., -0.25856522,\n",
              "         0.09303627,  0.62851637],\n",
              "       [-1.75235219,  0.41601189, -0.65850404, ..., -0.51922239,\n",
              "         0.84499223, -0.63522028],\n",
              "       ...,\n",
              "       [ 2.36973797,  0.54740819,  1.59306935, ...,  0.93556166,\n",
              "         0.97195203, -0.37783067],\n",
              "       [ 2.27240192, -2.22241909,  0.05796224, ..., -0.17898972,\n",
              "        -0.32266954,  0.13435827],\n",
              "       [-0.47994783,  0.65674601, -0.39804908, ..., -0.08050143,\n",
              "        -1.74797133, -0.65653454]])"
            ]
          },
          "metadata": {},
          "execution_count": 96
        }
      ]
    },
    {
      "cell_type": "code",
      "source": [
        "pca_data = pd.DataFrame(pca_values)\n",
        "pca_data.columns = \"comp0\", \"comp1\", \"comp2\", \"comp3\", \"comp4\", \"comp5\",\"comp6\", \"comp7\", \"comp8\", \"comp9\", \"comp10\", \"comp11\",\"comp12\"\n",
        "final = pd.concat([Hd1.age, pca_data.iloc[:, 0:10]], axis = 1)"
      ],
      "metadata": {
        "id": "OLWBikhNl58p"
      },
      "execution_count": 97,
      "outputs": []
    },
    {
      "cell_type": "code",
      "source": [
        "final"
      ],
      "metadata": {
        "colab": {
          "base_uri": "https://localhost:8080/",
          "height": 424
        },
        "id": "AgegituFl-RJ",
        "outputId": "7c893026-55ff-4da3-b04c-91da0839fe6c"
      },
      "execution_count": 98,
      "outputs": [
        {
          "output_type": "execute_result",
          "data": {
            "text/plain": [
              "     age     comp0     comp1     comp2     comp3     comp4     comp5  \\\n",
              "0     63 -0.393892  2.949993  0.109543 -3.255118  0.889014 -1.410526   \n",
              "1     37 -0.300980  0.583959 -0.913908 -2.384013 -1.965083 -0.290788   \n",
              "2     41 -1.752352  0.416012 -0.658504  0.182619  0.061341 -0.729914   \n",
              "3     56 -1.950862 -1.037437  0.245668 -0.122085 -0.389912  0.112155   \n",
              "4     57 -0.882795 -0.141287 -1.834731  2.332287  0.240046  0.645678   \n",
              "..   ...       ...       ...       ...       ...       ...       ...   \n",
              "298   57  1.465790 -0.613795 -1.524621  0.697981 -0.067648  0.830339   \n",
              "299   45  0.162396 -0.772243  0.015844 -1.022326 -1.634477  0.067086   \n",
              "300   68  2.369738  0.547408  1.593069 -1.654253  0.173728  1.744614   \n",
              "301   57  2.272402 -2.222419  0.057962 -1.211494  0.340311  0.503134   \n",
              "302   57 -0.479948  0.656746 -0.398049  0.573665  0.281558 -0.497218   \n",
              "\n",
              "        comp6     comp7     comp8     comp9  \n",
              "0   -0.006713  0.972660  0.950493  0.492643  \n",
              "1    0.566134  0.707917  0.999332  1.928830  \n",
              "2    0.293556 -0.729768 -1.235285  0.583640  \n",
              "3   -0.096802  0.024571  0.671473  0.815192  \n",
              "4   -1.112396  0.783129  0.843914  0.535259  \n",
              "..        ...       ...       ...       ...  \n",
              "298 -1.583658 -0.238481 -1.037844 -0.784174  \n",
              "299  0.572174  1.545280  0.516761 -1.388591  \n",
              "300 -0.029628  0.509340 -0.958449  1.114453  \n",
              "301 -0.814621 -0.696973 -0.933436 -0.709631  \n",
              "302  0.959875 -0.504118 -1.028421  0.750836  \n",
              "\n",
              "[303 rows x 11 columns]"
            ],
            "text/html": [
              "\n",
              "  <div id=\"df-6f9ef29b-9374-4e83-91de-7af1205de37e\">\n",
              "    <div class=\"colab-df-container\">\n",
              "      <div>\n",
              "<style scoped>\n",
              "    .dataframe tbody tr th:only-of-type {\n",
              "        vertical-align: middle;\n",
              "    }\n",
              "\n",
              "    .dataframe tbody tr th {\n",
              "        vertical-align: top;\n",
              "    }\n",
              "\n",
              "    .dataframe thead th {\n",
              "        text-align: right;\n",
              "    }\n",
              "</style>\n",
              "<table border=\"1\" class=\"dataframe\">\n",
              "  <thead>\n",
              "    <tr style=\"text-align: right;\">\n",
              "      <th></th>\n",
              "      <th>age</th>\n",
              "      <th>comp0</th>\n",
              "      <th>comp1</th>\n",
              "      <th>comp2</th>\n",
              "      <th>comp3</th>\n",
              "      <th>comp4</th>\n",
              "      <th>comp5</th>\n",
              "      <th>comp6</th>\n",
              "      <th>comp7</th>\n",
              "      <th>comp8</th>\n",
              "      <th>comp9</th>\n",
              "    </tr>\n",
              "  </thead>\n",
              "  <tbody>\n",
              "    <tr>\n",
              "      <th>0</th>\n",
              "      <td>63</td>\n",
              "      <td>-0.393892</td>\n",
              "      <td>2.949993</td>\n",
              "      <td>0.109543</td>\n",
              "      <td>-3.255118</td>\n",
              "      <td>0.889014</td>\n",
              "      <td>-1.410526</td>\n",
              "      <td>-0.006713</td>\n",
              "      <td>0.972660</td>\n",
              "      <td>0.950493</td>\n",
              "      <td>0.492643</td>\n",
              "    </tr>\n",
              "    <tr>\n",
              "      <th>1</th>\n",
              "      <td>37</td>\n",
              "      <td>-0.300980</td>\n",
              "      <td>0.583959</td>\n",
              "      <td>-0.913908</td>\n",
              "      <td>-2.384013</td>\n",
              "      <td>-1.965083</td>\n",
              "      <td>-0.290788</td>\n",
              "      <td>0.566134</td>\n",
              "      <td>0.707917</td>\n",
              "      <td>0.999332</td>\n",
              "      <td>1.928830</td>\n",
              "    </tr>\n",
              "    <tr>\n",
              "      <th>2</th>\n",
              "      <td>41</td>\n",
              "      <td>-1.752352</td>\n",
              "      <td>0.416012</td>\n",
              "      <td>-0.658504</td>\n",
              "      <td>0.182619</td>\n",
              "      <td>0.061341</td>\n",
              "      <td>-0.729914</td>\n",
              "      <td>0.293556</td>\n",
              "      <td>-0.729768</td>\n",
              "      <td>-1.235285</td>\n",
              "      <td>0.583640</td>\n",
              "    </tr>\n",
              "    <tr>\n",
              "      <th>3</th>\n",
              "      <td>56</td>\n",
              "      <td>-1.950862</td>\n",
              "      <td>-1.037437</td>\n",
              "      <td>0.245668</td>\n",
              "      <td>-0.122085</td>\n",
              "      <td>-0.389912</td>\n",
              "      <td>0.112155</td>\n",
              "      <td>-0.096802</td>\n",
              "      <td>0.024571</td>\n",
              "      <td>0.671473</td>\n",
              "      <td>0.815192</td>\n",
              "    </tr>\n",
              "    <tr>\n",
              "      <th>4</th>\n",
              "      <td>57</td>\n",
              "      <td>-0.882795</td>\n",
              "      <td>-0.141287</td>\n",
              "      <td>-1.834731</td>\n",
              "      <td>2.332287</td>\n",
              "      <td>0.240046</td>\n",
              "      <td>0.645678</td>\n",
              "      <td>-1.112396</td>\n",
              "      <td>0.783129</td>\n",
              "      <td>0.843914</td>\n",
              "      <td>0.535259</td>\n",
              "    </tr>\n",
              "    <tr>\n",
              "      <th>...</th>\n",
              "      <td>...</td>\n",
              "      <td>...</td>\n",
              "      <td>...</td>\n",
              "      <td>...</td>\n",
              "      <td>...</td>\n",
              "      <td>...</td>\n",
              "      <td>...</td>\n",
              "      <td>...</td>\n",
              "      <td>...</td>\n",
              "      <td>...</td>\n",
              "      <td>...</td>\n",
              "    </tr>\n",
              "    <tr>\n",
              "      <th>298</th>\n",
              "      <td>57</td>\n",
              "      <td>1.465790</td>\n",
              "      <td>-0.613795</td>\n",
              "      <td>-1.524621</td>\n",
              "      <td>0.697981</td>\n",
              "      <td>-0.067648</td>\n",
              "      <td>0.830339</td>\n",
              "      <td>-1.583658</td>\n",
              "      <td>-0.238481</td>\n",
              "      <td>-1.037844</td>\n",
              "      <td>-0.784174</td>\n",
              "    </tr>\n",
              "    <tr>\n",
              "      <th>299</th>\n",
              "      <td>45</td>\n",
              "      <td>0.162396</td>\n",
              "      <td>-0.772243</td>\n",
              "      <td>0.015844</td>\n",
              "      <td>-1.022326</td>\n",
              "      <td>-1.634477</td>\n",
              "      <td>0.067086</td>\n",
              "      <td>0.572174</td>\n",
              "      <td>1.545280</td>\n",
              "      <td>0.516761</td>\n",
              "      <td>-1.388591</td>\n",
              "    </tr>\n",
              "    <tr>\n",
              "      <th>300</th>\n",
              "      <td>68</td>\n",
              "      <td>2.369738</td>\n",
              "      <td>0.547408</td>\n",
              "      <td>1.593069</td>\n",
              "      <td>-1.654253</td>\n",
              "      <td>0.173728</td>\n",
              "      <td>1.744614</td>\n",
              "      <td>-0.029628</td>\n",
              "      <td>0.509340</td>\n",
              "      <td>-0.958449</td>\n",
              "      <td>1.114453</td>\n",
              "    </tr>\n",
              "    <tr>\n",
              "      <th>301</th>\n",
              "      <td>57</td>\n",
              "      <td>2.272402</td>\n",
              "      <td>-2.222419</td>\n",
              "      <td>0.057962</td>\n",
              "      <td>-1.211494</td>\n",
              "      <td>0.340311</td>\n",
              "      <td>0.503134</td>\n",
              "      <td>-0.814621</td>\n",
              "      <td>-0.696973</td>\n",
              "      <td>-0.933436</td>\n",
              "      <td>-0.709631</td>\n",
              "    </tr>\n",
              "    <tr>\n",
              "      <th>302</th>\n",
              "      <td>57</td>\n",
              "      <td>-0.479948</td>\n",
              "      <td>0.656746</td>\n",
              "      <td>-0.398049</td>\n",
              "      <td>0.573665</td>\n",
              "      <td>0.281558</td>\n",
              "      <td>-0.497218</td>\n",
              "      <td>0.959875</td>\n",
              "      <td>-0.504118</td>\n",
              "      <td>-1.028421</td>\n",
              "      <td>0.750836</td>\n",
              "    </tr>\n",
              "  </tbody>\n",
              "</table>\n",
              "<p>303 rows × 11 columns</p>\n",
              "</div>\n",
              "      <button class=\"colab-df-convert\" onclick=\"convertToInteractive('df-6f9ef29b-9374-4e83-91de-7af1205de37e')\"\n",
              "              title=\"Convert this dataframe to an interactive table.\"\n",
              "              style=\"display:none;\">\n",
              "        \n",
              "  <svg xmlns=\"http://www.w3.org/2000/svg\" height=\"24px\"viewBox=\"0 0 24 24\"\n",
              "       width=\"24px\">\n",
              "    <path d=\"M0 0h24v24H0V0z\" fill=\"none\"/>\n",
              "    <path d=\"M18.56 5.44l.94 2.06.94-2.06 2.06-.94-2.06-.94-.94-2.06-.94 2.06-2.06.94zm-11 1L8.5 8.5l.94-2.06 2.06-.94-2.06-.94L8.5 2.5l-.94 2.06-2.06.94zm10 10l.94 2.06.94-2.06 2.06-.94-2.06-.94-.94-2.06-.94 2.06-2.06.94z\"/><path d=\"M17.41 7.96l-1.37-1.37c-.4-.4-.92-.59-1.43-.59-.52 0-1.04.2-1.43.59L10.3 9.45l-7.72 7.72c-.78.78-.78 2.05 0 2.83L4 21.41c.39.39.9.59 1.41.59.51 0 1.02-.2 1.41-.59l7.78-7.78 2.81-2.81c.8-.78.8-2.07 0-2.86zM5.41 20L4 18.59l7.72-7.72 1.47 1.35L5.41 20z\"/>\n",
              "  </svg>\n",
              "      </button>\n",
              "      \n",
              "  <style>\n",
              "    .colab-df-container {\n",
              "      display:flex;\n",
              "      flex-wrap:wrap;\n",
              "      gap: 12px;\n",
              "    }\n",
              "\n",
              "    .colab-df-convert {\n",
              "      background-color: #E8F0FE;\n",
              "      border: none;\n",
              "      border-radius: 50%;\n",
              "      cursor: pointer;\n",
              "      display: none;\n",
              "      fill: #1967D2;\n",
              "      height: 32px;\n",
              "      padding: 0 0 0 0;\n",
              "      width: 32px;\n",
              "    }\n",
              "\n",
              "    .colab-df-convert:hover {\n",
              "      background-color: #E2EBFA;\n",
              "      box-shadow: 0px 1px 2px rgba(60, 64, 67, 0.3), 0px 1px 3px 1px rgba(60, 64, 67, 0.15);\n",
              "      fill: #174EA6;\n",
              "    }\n",
              "\n",
              "    [theme=dark] .colab-df-convert {\n",
              "      background-color: #3B4455;\n",
              "      fill: #D2E3FC;\n",
              "    }\n",
              "\n",
              "    [theme=dark] .colab-df-convert:hover {\n",
              "      background-color: #434B5C;\n",
              "      box-shadow: 0px 1px 3px 1px rgba(0, 0, 0, 0.15);\n",
              "      filter: drop-shadow(0px 1px 2px rgba(0, 0, 0, 0.3));\n",
              "      fill: #FFFFFF;\n",
              "    }\n",
              "  </style>\n",
              "\n",
              "      <script>\n",
              "        const buttonEl =\n",
              "          document.querySelector('#df-6f9ef29b-9374-4e83-91de-7af1205de37e button.colab-df-convert');\n",
              "        buttonEl.style.display =\n",
              "          google.colab.kernel.accessAllowed ? 'block' : 'none';\n",
              "\n",
              "        async function convertToInteractive(key) {\n",
              "          const element = document.querySelector('#df-6f9ef29b-9374-4e83-91de-7af1205de37e');\n",
              "          const dataTable =\n",
              "            await google.colab.kernel.invokeFunction('convertToInteractive',\n",
              "                                                     [key], {});\n",
              "          if (!dataTable) return;\n",
              "\n",
              "          const docLinkHtml = 'Like what you see? Visit the ' +\n",
              "            '<a target=\"_blank\" href=https://colab.research.google.com/notebooks/data_table.ipynb>data table notebook</a>'\n",
              "            + ' to learn more about interactive tables.';\n",
              "          element.innerHTML = '';\n",
              "          dataTable['output_type'] = 'display_data';\n",
              "          await google.colab.output.renderOutput(dataTable, element);\n",
              "          const docLink = document.createElement('div');\n",
              "          docLink.innerHTML = docLinkHtml;\n",
              "          element.appendChild(docLink);\n",
              "        }\n",
              "      </script>\n",
              "    </div>\n",
              "  </div>\n",
              "  "
            ]
          },
          "metadata": {},
          "execution_count": 98
        }
      ]
    },
    {
      "cell_type": "code",
      "source": [
        "# Scatter diagram\n",
        "import matplotlib.pylab as plt\n",
        "plt.scatter(x = final.comp1, y = final.comp2)"
      ],
      "metadata": {
        "colab": {
          "base_uri": "https://localhost:8080/",
          "height": 282
        },
        "id": "ZhtSyxwkmGdU",
        "outputId": "d6362fa6-74f7-453d-c566-a1ab12c1ea60"
      },
      "execution_count": 99,
      "outputs": [
        {
          "output_type": "execute_result",
          "data": {
            "text/plain": [
              "<matplotlib.collections.PathCollection at 0x7f355db93250>"
            ]
          },
          "metadata": {},
          "execution_count": 99
        },
        {
          "output_type": "display_data",
          "data": {
            "text/plain": [
              "<Figure size 432x288 with 1 Axes>"
            ],
            "image/png": "[encoded data removed]"
          },
          "metadata": {
            "needs_background": "light"
          }
        }
      ]
    }
  ]
}